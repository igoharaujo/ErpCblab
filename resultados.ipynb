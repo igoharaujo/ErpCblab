{
 "cells": [
  {
   "cell_type": "code",
   "execution_count": 2,
   "metadata": {},
   "outputs": [
    {
     "name": "stderr",
     "output_type": "stream",
     "text": [
      "24/11/27 11:35:40 WARN Utils: Your hostname, MacBook-Pro-de-igor.local resolves to a loopback address: 127.0.0.1; using 172.17.1.206 instead (on interface en0)\n",
      "24/11/27 11:35:40 WARN Utils: Set SPARK_LOCAL_IP if you need to bind to another address\n",
      "Setting default log level to \"WARN\".\n",
      "To adjust logging level use sc.setLogLevel(newLevel). For SparkR, use setLogLevel(newLevel).\n",
      "24/11/27 11:35:40 WARN NativeCodeLoader: Unable to load native-hadoop library for your platform... using builtin-java classes where applicable\n"
     ]
    }
   ],
   "source": [
    "from pyspark.sql import SparkSession\n",
    "from pyspark.sql.functions import explode, col\n",
    "spark = SparkSession \\\n",
    "        .builder \\\n",
    "        .master(\"local[1]\") \\\n",
    "        .appName(\"elt_jobs\") \\\n",
    "        .config(\"spark.sql.files.maxPartitionBytes\", \"10kb\") \\\n",
    "        .getOrCreate()"
   ]
  },
  {
   "cell_type": "markdown",
   "metadata": {},
   "source": [
    "# Camada Bronze"
   ]
  },
  {
   "cell_type": "code",
   "execution_count": 18,
   "metadata": {},
   "outputs": [
    {
     "name": "stdout",
     "output_type": "stream",
     "text": [
      "+-------------------+--------------------+--------+--------------+\n",
      "|             curUTC|         guestChecks|  locRef|ingestion_date|\n",
      "+-------------------+--------------------+--------+--------------+\n",
      "|2024-05-05T06:06:06|[{NULL, 1234, 109...|99 CB CB|    2024-11-27|\n",
      "+-------------------+--------------------+--------+--------------+\n",
      "\n"
     ]
    }
   ],
   "source": [
    "\n",
    "df_bronze = spark.read.parquet('DataLake/landing-zone/Bronze/erp/erp_20241127')\n",
    "df_bronze.show()\n"
   ]
  },
  {
   "cell_type": "markdown",
   "metadata": {},
   "source": [
    "# Camada Prata"
   ]
  },
  {
   "cell_type": "code",
   "execution_count": 21,
   "metadata": {},
   "outputs": [
    {
     "name": "stdout",
     "output_type": "stream",
     "text": [
      "+-----+-------+---------+-----------+------+--------+-------------+----------+---------+\n",
      "|miNum|modFlag|inclTax  |activeTaxes|prcLvl|discount|serviceCharge|enderMedia|errorCode|\n",
      "+-----+-------+---------+-----------+------+--------+-------------+----------+---------+\n",
      "|6042 |false  |20.809091|28         |3     |NULL    |NULL         |NULL      |NULL     |\n",
      "+-----+-------+---------+-----------+------+--------+-------------+----------+---------+\n",
      "\n",
      "+------------+------+----------+-------------------+-------------------+----------+-------------------+-------------------+-------------------+-------------------+-------------------+-------------------+--------+------+------+-------------+------+------+------+---------+------+-----+-----+------+-------+------+---------+-----------+\n",
      "|guestCheckId|chkNum|opnBusDt  |opnUTC             |opnLcl             |clsdBusDt |clsdUTC            |clsdLcl            |lastTransUTC       |lastTransLcl       |lastUpdatedUTC     |lastUpdatedLcl     |clsdFlag|gstCnt|subTtl|nonTxblSlsTtl|chkTtl|dscTtl|payTtl|balDueTtl|rvcNum|otNum|ocNum|tblNum|tblName|empNum|numSrvcRd|numChkPrntd|\n",
      "+------------+------+----------+-------------------+-------------------+----------+-------------------+-------------------+-------------------+-------------------+-------------------+-------------------+--------+------+------+-------------+------+------+------+---------+------+-----+-----+------+-------+------+---------+-----------+\n",
      "|1122334455  |1234  |2024-01-01|2024-01-01T09:09:09|2024-01-01T06:09:09|2024-01-01|2024-01-01T12:12:12|2024-01-01T09:12:12|2024-01-01T12:12:12|2024-01-01T09:12:12|2024-01-01T13:13:13|2024-01-01T10:13:13|true    |1     |109.9 |NULL         |109.9 |-10   |109.9 |NULL     |101   |1    |NULL |1     |90     |55555 |3        |2          |\n",
      "+------------+------+----------+-------------------+-------------------+----------+-------------------+-------------------+-------------------+-------------------+-------------------+-------------------+--------+------+------+-------------+------+------+------+---------+------+-----+-----+------+-------+------+---------+-----------+\n",
      "\n",
      "+------+----------+----------+-------+----+\n",
      "|taxNum|txblSlsTtl|taxCollTtl|taxRate|type|\n",
      "+------+----------+----------+-------+----+\n",
      "|28    |119.9     |20.81     |21     |3   |\n",
      "+------+----------+----------+-------+----+\n",
      "\n",
      "+--------------------+------+--------+--------+-------+-----+-------------------+-------------------+-------------------+-------------------+----------+-----+------+------+------+------+--------+---------+---------+-------+\n",
      "|guestCheckLineItemId|rvcNum|dtlOtNum|dtlOcNum|lineNum|dtlId|detailUTC          |detailLcl          |lastUpdateUTC      |lastUpdateLcl      |busDt     |wsNum|dspTtl|dspQty|aggTtl|aggQty|chkEmpId|chkEmpNum|svcRndNum|seatNum|\n",
      "+--------------------+------+--------+--------+-------+-----+-------------------+-------------------+-------------------+-------------------+----------+-----+------+------+------+------+--------+---------+---------+-------+\n",
      "|9988776655          |123   |1       |NULL    |1      |1    |2024-01-01T09:09:09|2024-01-01T06:09:09|2024-11-01T10:10:10|2024-01-01T07:10:10|2024-01-01|7    |119.9 |1     |119.9 |1     |10454318|81001    |1        |1      |\n",
      "+--------------------+------+--------+--------+-------+-----+-------------------+-------------------+-------------------+-------------------+----------+-----+------+------+------+------+--------+---------+---------+-------+\n",
      "\n"
     ]
    }
   ],
   "source": [
    "from pyspark.sql.functions import explode, col\n",
    "df_menu_items = spark.read.parquet('DataLake/landing-zone/Prata/erp/menu_items').show(truncate=False)\n",
    "df_guest_checks = spark.read.parquet('DataLake/landing-zone/Prata/erp/guest_checks').show(truncate=False)\n",
    "df_taxes = spark.read.parquet('DataLake/landing-zone/Prata/erp/taxes').show(truncate=False)\n",
    "df_detail_lines = spark.read.parquet('DataLake/landing-zone/Prata/erp/detail_lines').show(truncate=False)\n",
    "\n"
   ]
  },
  {
   "cell_type": "code",
   "execution_count": 22,
   "metadata": {},
   "outputs": [
    {
     "name": "stdout",
     "output_type": "stream",
     "text": [
      "('6042', 'False', '20.809091', '28', '3', None, None, None, None)\n"
     ]
    }
   ],
   "source": [
    "import sqlite3\n",
    "\n",
    "def executar_select(tabela: str):\n",
    "    try:\n",
    "\n",
    "        conn = sqlite3.connect('erp_database.db')\n",
    "        cursor = conn.cursor()\n",
    "        \n",
    "\n",
    "        select_query = f\"SELECT * FROM {tabela} LIMIT 10\"  \n",
    "        cursor.execute(select_query)\n",
    "        \n",
    "        resultados = cursor.fetchall()\n",
    "        \n",
    "\n",
    "        for linha in resultados:\n",
    "            print(linha)\n",
    "        \n",
    "\n",
    "        conn.close()\n",
    "        \n",
    "    except Exception as e:\n",
    "        print(f\"Erro ao executar SELECT: {str(e)}\")\n",
    "\n",
    "# Exemplo de uso\n",
    "executar_select('menu_items')"
   ]
  }
 ],
 "metadata": {
  "kernelspec": {
   "display_name": "venv",
   "language": "python",
   "name": "python3"
  },
  "language_info": {
   "codemirror_mode": {
    "name": "ipython",
    "version": 3
   },
   "file_extension": ".py",
   "mimetype": "text/x-python",
   "name": "python",
   "nbconvert_exporter": "python",
   "pygments_lexer": "ipython3",
   "version": "3.12.7"
  }
 },
 "nbformat": 4,
 "nbformat_minor": 2
}
